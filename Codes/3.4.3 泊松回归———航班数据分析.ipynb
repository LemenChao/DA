{
 "cells": [
  {
   "cell_type": "markdown",
   "id": "a4dfa3ef",
   "metadata": {},
   "source": [
    "# 3.4.3 泊松回归———航班数据分析"
   ]
  },
  {
   "cell_type": "markdown",
   "id": "591e126e",
   "metadata": {},
   "source": [
    "# 1. 业务理解"
   ]
  },
  {
   "cell_type": "code",
   "execution_count": 1,
   "id": "729d37c9",
   "metadata": {},
   "outputs": [],
   "source": [
    "# 略，见教材内容。本文件为教材《数据分析理论与实践：基于经典算法及Python编程实现》（朝乐门主编，机械工业出版社，2022年）的配套代码。"
   ]
  },
  {
   "cell_type": "markdown",
   "id": "7a5dd582",
   "metadata": {},
   "source": [
    "# 2.数据读入"
   ]
  },
  {
   "cell_type": "code",
   "execution_count": 2,
   "id": "2a3f9822",
   "metadata": {},
   "outputs": [],
   "source": [
    "import pandas as pd\n",
    "import numpy as np\n",
    "import matplotlib.pyplot as plt\n",
    "import matplotlib\n",
    "import numpy as np"
   ]
  },
  {
   "cell_type": "code",
   "execution_count": 3,
   "id": "9c156f6c",
   "metadata": {},
   "outputs": [],
   "source": [
    "df_erosion = pd.read_csv(\"o-ring-erosion-only.csv\"\n",
    "                         ,names=['Number of O-rings at risk on a given flight',\n",
    "                                'Number experiencing thermal distress ', \n",
    "                                'Launch temperature (degrees F)',\n",
    "                                'Leak-check pressure (psi)',\n",
    "                                'Temporal order of flight'])"
   ]
  },
  {
   "cell_type": "code",
   "execution_count": 4,
   "id": "404dbc7a",
   "metadata": {},
   "outputs": [],
   "source": [
    "pd.read_csv?"
   ]
  },
  {
   "cell_type": "markdown",
   "id": "22bcd194",
   "metadata": {},
   "source": [
    "# 3. 数据理解"
   ]
  },
  {
   "cell_type": "code",
   "execution_count": 5,
   "id": "0570772e",
   "metadata": {
    "scrolled": true
   },
   "outputs": [
    {
     "data": {
      "text/html": [
       "<div>\n",
       "<style scoped>\n",
       "    .dataframe tbody tr th:only-of-type {\n",
       "        vertical-align: middle;\n",
       "    }\n",
       "\n",
       "    .dataframe tbody tr th {\n",
       "        vertical-align: top;\n",
       "    }\n",
       "\n",
       "    .dataframe thead th {\n",
       "        text-align: right;\n",
       "    }\n",
       "</style>\n",
       "<table border=\"1\" class=\"dataframe\">\n",
       "  <thead>\n",
       "    <tr style=\"text-align: right;\">\n",
       "      <th></th>\n",
       "      <th>Number of O-rings at risk on a given flight</th>\n",
       "      <th>Number experiencing thermal distress</th>\n",
       "      <th>Launch temperature (degrees F)</th>\n",
       "      <th>Leak-check pressure (psi)</th>\n",
       "      <th>Temporal order of flight</th>\n",
       "    </tr>\n",
       "  </thead>\n",
       "  <tbody>\n",
       "    <tr>\n",
       "      <th>0</th>\n",
       "      <td>6</td>\n",
       "      <td>0</td>\n",
       "      <td>66</td>\n",
       "      <td>50</td>\n",
       "      <td>1</td>\n",
       "    </tr>\n",
       "    <tr>\n",
       "      <th>1</th>\n",
       "      <td>6</td>\n",
       "      <td>1</td>\n",
       "      <td>70</td>\n",
       "      <td>50</td>\n",
       "      <td>2</td>\n",
       "    </tr>\n",
       "    <tr>\n",
       "      <th>2</th>\n",
       "      <td>6</td>\n",
       "      <td>0</td>\n",
       "      <td>69</td>\n",
       "      <td>50</td>\n",
       "      <td>3</td>\n",
       "    </tr>\n",
       "    <tr>\n",
       "      <th>3</th>\n",
       "      <td>6</td>\n",
       "      <td>0</td>\n",
       "      <td>68</td>\n",
       "      <td>50</td>\n",
       "      <td>4</td>\n",
       "    </tr>\n",
       "    <tr>\n",
       "      <th>4</th>\n",
       "      <td>6</td>\n",
       "      <td>0</td>\n",
       "      <td>67</td>\n",
       "      <td>50</td>\n",
       "      <td>5</td>\n",
       "    </tr>\n",
       "  </tbody>\n",
       "</table>\n",
       "</div>"
      ],
      "text/plain": [
       "   Number of O-rings at risk on a given flight  \\\n",
       "0                                            6   \n",
       "1                                            6   \n",
       "2                                            6   \n",
       "3                                            6   \n",
       "4                                            6   \n",
       "\n",
       "   Number experiencing thermal distress   Launch temperature (degrees F)  \\\n",
       "0                                      0                              66   \n",
       "1                                      1                              70   \n",
       "2                                      0                              69   \n",
       "3                                      0                              68   \n",
       "4                                      0                              67   \n",
       "\n",
       "   Leak-check pressure (psi)  Temporal order of flight  \n",
       "0                         50                         1  \n",
       "1                         50                         2  \n",
       "2                         50                         3  \n",
       "3                         50                         4  \n",
       "4                         50                         5  "
      ]
     },
     "execution_count": 5,
     "metadata": {},
     "output_type": "execute_result"
    }
   ],
   "source": [
    "df_erosion.head()"
   ]
  },
  {
   "cell_type": "code",
   "execution_count": 6,
   "id": "717615ff",
   "metadata": {
    "scrolled": true
   },
   "outputs": [
    {
     "data": {
      "text/html": [
       "<div>\n",
       "<style scoped>\n",
       "    .dataframe tbody tr th:only-of-type {\n",
       "        vertical-align: middle;\n",
       "    }\n",
       "\n",
       "    .dataframe tbody tr th {\n",
       "        vertical-align: top;\n",
       "    }\n",
       "\n",
       "    .dataframe thead th {\n",
       "        text-align: right;\n",
       "    }\n",
       "</style>\n",
       "<table border=\"1\" class=\"dataframe\">\n",
       "  <thead>\n",
       "    <tr style=\"text-align: right;\">\n",
       "      <th></th>\n",
       "      <th>Number of O-rings at risk on a given flight</th>\n",
       "      <th>Number experiencing thermal distress</th>\n",
       "      <th>Launch temperature (degrees F)</th>\n",
       "      <th>Leak-check pressure (psi)</th>\n",
       "      <th>Temporal order of flight</th>\n",
       "    </tr>\n",
       "  </thead>\n",
       "  <tbody>\n",
       "    <tr>\n",
       "      <th>count</th>\n",
       "      <td>23.0</td>\n",
       "      <td>23.000000</td>\n",
       "      <td>23.000000</td>\n",
       "      <td>23.000000</td>\n",
       "      <td>23.00000</td>\n",
       "    </tr>\n",
       "    <tr>\n",
       "      <th>mean</th>\n",
       "      <td>6.0</td>\n",
       "      <td>0.391304</td>\n",
       "      <td>69.565217</td>\n",
       "      <td>152.173913</td>\n",
       "      <td>12.00000</td>\n",
       "    </tr>\n",
       "    <tr>\n",
       "      <th>std</th>\n",
       "      <td>0.0</td>\n",
       "      <td>0.656376</td>\n",
       "      <td>7.057080</td>\n",
       "      <td>68.221332</td>\n",
       "      <td>6.78233</td>\n",
       "    </tr>\n",
       "    <tr>\n",
       "      <th>min</th>\n",
       "      <td>6.0</td>\n",
       "      <td>0.000000</td>\n",
       "      <td>53.000000</td>\n",
       "      <td>50.000000</td>\n",
       "      <td>1.00000</td>\n",
       "    </tr>\n",
       "    <tr>\n",
       "      <th>25%</th>\n",
       "      <td>6.0</td>\n",
       "      <td>0.000000</td>\n",
       "      <td>67.000000</td>\n",
       "      <td>75.000000</td>\n",
       "      <td>6.50000</td>\n",
       "    </tr>\n",
       "    <tr>\n",
       "      <th>50%</th>\n",
       "      <td>6.0</td>\n",
       "      <td>0.000000</td>\n",
       "      <td>70.000000</td>\n",
       "      <td>200.000000</td>\n",
       "      <td>12.00000</td>\n",
       "    </tr>\n",
       "    <tr>\n",
       "      <th>75%</th>\n",
       "      <td>6.0</td>\n",
       "      <td>1.000000</td>\n",
       "      <td>75.000000</td>\n",
       "      <td>200.000000</td>\n",
       "      <td>17.50000</td>\n",
       "    </tr>\n",
       "    <tr>\n",
       "      <th>max</th>\n",
       "      <td>6.0</td>\n",
       "      <td>2.000000</td>\n",
       "      <td>81.000000</td>\n",
       "      <td>200.000000</td>\n",
       "      <td>23.00000</td>\n",
       "    </tr>\n",
       "  </tbody>\n",
       "</table>\n",
       "</div>"
      ],
      "text/plain": [
       "       Number of O-rings at risk on a given flight  \\\n",
       "count                                         23.0   \n",
       "mean                                           6.0   \n",
       "std                                            0.0   \n",
       "min                                            6.0   \n",
       "25%                                            6.0   \n",
       "50%                                            6.0   \n",
       "75%                                            6.0   \n",
       "max                                            6.0   \n",
       "\n",
       "       Number experiencing thermal distress   Launch temperature (degrees F)  \\\n",
       "count                              23.000000                       23.000000   \n",
       "mean                                0.391304                       69.565217   \n",
       "std                                 0.656376                        7.057080   \n",
       "min                                 0.000000                       53.000000   \n",
       "25%                                 0.000000                       67.000000   \n",
       "50%                                 0.000000                       70.000000   \n",
       "75%                                 1.000000                       75.000000   \n",
       "max                                 2.000000                       81.000000   \n",
       "\n",
       "       Leak-check pressure (psi)  Temporal order of flight  \n",
       "count                  23.000000                  23.00000  \n",
       "mean                  152.173913                  12.00000  \n",
       "std                    68.221332                   6.78233  \n",
       "min                    50.000000                   1.00000  \n",
       "25%                    75.000000                   6.50000  \n",
       "50%                   200.000000                  12.00000  \n",
       "75%                   200.000000                  17.50000  \n",
       "max                   200.000000                  23.00000  "
      ]
     },
     "execution_count": 6,
     "metadata": {},
     "output_type": "execute_result"
    }
   ],
   "source": [
    "df_erosion.describe()"
   ]
  },
  {
   "cell_type": "code",
   "execution_count": 7,
   "id": "080ac14f",
   "metadata": {},
   "outputs": [
    {
     "data": {
      "text/plain": [
       "(23, 5)"
      ]
     },
     "execution_count": 7,
     "metadata": {},
     "output_type": "execute_result"
    }
   ],
   "source": [
    "df_erosion.shape"
   ]
  },
  {
   "cell_type": "code",
   "execution_count": 8,
   "id": "97b9939d",
   "metadata": {},
   "outputs": [
    {
     "data": {
      "image/png": "[encoded data removed]",
      "text/plain": [
       "<Figure size 432x288 with 1 Axes>"
      ]
     },
     "metadata": {
      "needs_background": "light"
     },
     "output_type": "display_data"
    }
   ],
   "source": [
    "# 绘制直方图 设置matplotlib正常显示中文和负号\n",
    "matplotlib.rcParams['font.sans-serif']=['SimHei']   # 用黑体显示中文\n",
    "matplotlib.rcParams['axes.unicode_minus']=False     # 正常显示负号\n",
    "\n",
    "plt.hist(df_erosion['Number experiencing thermal distress '] #出现热损伤的O型环数量\n",
    "         , bins=10 \n",
    "         ,facecolor=\"blue\"\n",
    "         , edgecolor=\"black\"\n",
    "         , alpha=0.7)\n",
    "\n",
    "# 显示横轴标签\n",
    "plt.xlabel(\"区间\")\n",
    "# 显示纵轴标签\n",
    "plt.ylabel(\"频数\")\n",
    "# 显示图标题\n",
    "plt.title(\"因变量'Number experiencing thermal distress'频数分布直方图\")\n",
    "plt.show()"
   ]
  },
  {
   "cell_type": "code",
   "execution_count": 9,
   "id": "bc402c50",
   "metadata": {},
   "outputs": [
    {
     "name": "stdout",
     "output_type": "stream",
     "text": [
      "0.391304347826087\n",
      "0.41209829867674863\n"
     ]
    }
   ],
   "source": [
    "print(np.mean(df_erosion['Number experiencing thermal distress ']))\n",
    "print(np.var(df_erosion['Number experiencing thermal distress ']))"
   ]
  },
  {
   "cell_type": "markdown",
   "id": "826ae1e9",
   "metadata": {},
   "source": [
    "# 4.数据准备"
   ]
  },
  {
   "cell_type": "code",
   "execution_count": 10,
   "id": "ccb63217",
   "metadata": {},
   "outputs": [],
   "source": [
    "df_erosion.rename(columns={'Number of O-rings at risk on a given flight':'num_rings',\n",
    "                           'Launch temperature (degrees F)':'temperature',\n",
    "                           'Leak-check pressure (psi)':'pressure',\n",
    "                           'Temporal order of flight':'order',\n",
    "                           'Number experiencing thermal distress ':'num_distress'}\n",
    "                  ,inplace=True )\n",
    "\n",
    "order = ['num_rings', 'temperature', 'pressure', 'order', 'num_distress']\n",
    "df_erosion = df_erosion[order]\n"
   ]
  },
  {
   "cell_type": "markdown",
   "id": "1256a084",
   "metadata": {},
   "source": [
    "# 5.模型训练"
   ]
  },
  {
   "cell_type": "code",
   "execution_count": 11,
   "id": "fe142c17",
   "metadata": {},
   "outputs": [
    {
     "name": "stdout",
     "output_type": "stream",
     "text": [
      "                 Generalized Linear Model Regression Results                  \n",
      "==============================================================================\n",
      "Dep. Variable:           num_distress   No. Observations:                   23\n",
      "Model:                            GLM   Df Residuals:                       19\n",
      "Model Family:                 Poisson   Df Model:                            3\n",
      "Link Function:                    log   Scale:                          1.0000\n",
      "Method:                          IRLS   Log-Likelihood:                -15.317\n",
      "Date:                Sun, 30 Oct 2022   Deviance:                       15.407\n",
      "Time:                        13:19:54   Pearson chi2:                     23.4\n",
      "No. Iterations:                     5                                         \n",
      "Covariance Type:            nonrobust                                         \n",
      "===============================================================================\n",
      "                  coef    std err          z      P>|z|      [0.025      0.975]\n",
      "-------------------------------------------------------------------------------\n",
      "Intercept       0.0984      0.090      1.094      0.274      -0.078       0.275\n",
      "num_rings       0.5905      0.540      1.094      0.274      -0.468       1.649\n",
      "temperature    -0.0883      0.042     -2.092      0.036      -0.171      -0.006\n",
      "pressure        0.0070      0.010      0.708      0.479      -0.012       0.026\n",
      "order           0.0115      0.077      0.150      0.881      -0.138       0.161\n",
      "===============================================================================\n"
     ]
    },
    {
     "data": {
      "text/html": [
       "<div>\n",
       "<style scoped>\n",
       "    .dataframe tbody tr th:only-of-type {\n",
       "        vertical-align: middle;\n",
       "    }\n",
       "\n",
       "    .dataframe tbody tr th {\n",
       "        vertical-align: top;\n",
       "    }\n",
       "\n",
       "    .dataframe thead th {\n",
       "        text-align: right;\n",
       "    }\n",
       "</style>\n",
       "<table border=\"1\" class=\"dataframe\">\n",
       "  <thead>\n",
       "    <tr style=\"text-align: right;\">\n",
       "      <th></th>\n",
       "      <th>num_rings</th>\n",
       "      <th>temperature</th>\n",
       "      <th>pressure</th>\n",
       "      <th>order</th>\n",
       "      <th>num_distress</th>\n",
       "      <th>predict_result</th>\n",
       "    </tr>\n",
       "  </thead>\n",
       "  <tbody>\n",
       "    <tr>\n",
       "      <th>0</th>\n",
       "      <td>6</td>\n",
       "      <td>66</td>\n",
       "      <td>50</td>\n",
       "      <td>1</td>\n",
       "      <td>0</td>\n",
       "      <td>0.161</td>\n",
       "    </tr>\n",
       "    <tr>\n",
       "      <th>1</th>\n",
       "      <td>6</td>\n",
       "      <td>70</td>\n",
       "      <td>50</td>\n",
       "      <td>2</td>\n",
       "      <td>1</td>\n",
       "      <td>0.114</td>\n",
       "    </tr>\n",
       "    <tr>\n",
       "      <th>2</th>\n",
       "      <td>6</td>\n",
       "      <td>69</td>\n",
       "      <td>50</td>\n",
       "      <td>3</td>\n",
       "      <td>0</td>\n",
       "      <td>0.126</td>\n",
       "    </tr>\n",
       "    <tr>\n",
       "      <th>3</th>\n",
       "      <td>6</td>\n",
       "      <td>68</td>\n",
       "      <td>50</td>\n",
       "      <td>4</td>\n",
       "      <td>0</td>\n",
       "      <td>0.140</td>\n",
       "    </tr>\n",
       "    <tr>\n",
       "      <th>4</th>\n",
       "      <td>6</td>\n",
       "      <td>67</td>\n",
       "      <td>50</td>\n",
       "      <td>5</td>\n",
       "      <td>0</td>\n",
       "      <td>0.154</td>\n",
       "    </tr>\n",
       "  </tbody>\n",
       "</table>\n",
       "</div>"
      ],
      "text/plain": [
       "   num_rings  temperature  pressure  order  num_distress  predict_result\n",
       "0          6           66        50      1             0           0.161\n",
       "1          6           70        50      2             1           0.114\n",
       "2          6           69        50      3             0           0.126\n",
       "3          6           68        50      4             0           0.140\n",
       "4          6           67        50      5             0           0.154"
      ]
     },
     "execution_count": 11,
     "metadata": {},
     "output_type": "execute_result"
    }
   ],
   "source": [
    "import statsmodels.api as sm\n",
    "import statsmodels.formula.api as smf\n",
    "\n",
    "glm=smf.glm('num_distress~num_rings + temperature + pressure + order'\n",
    "            , df_erosion\n",
    "            , family=sm.families.Poisson() \n",
    "           )\n",
    "\n",
    "results = glm.fit()\n",
    "print(results.summary())\n",
    "\n",
    "\n",
    "df_erosion['predict_result'] = results.predict(df_erosion)\n",
    "df_erosion['predict_result'] =df_erosion['predict_result'].apply(lambda x:round(x, 3))\n",
    "df_erosion.head()"
   ]
  },
  {
   "cell_type": "code",
   "execution_count": 12,
   "id": "c82834c8",
   "metadata": {
    "scrolled": true
   },
   "outputs": [
    {
     "name": "stdout",
     "output_type": "stream",
     "text": [
      "Help on method from_formula in module statsmodels.base.model:\n",
      "\n",
      "from_formula(formula, data, subset=None, drop_cols=None, *args, **kwargs) method of builtins.type instance\n",
      "    Create a Model from a formula and dataframe.\n",
      "    \n",
      "    Parameters\n",
      "    ----------\n",
      "    formula : str or generic Formula object\n",
      "        The formula specifying the model.\n",
      "    data : array_like\n",
      "        The data for the model. See Notes.\n",
      "    subset : array_like\n",
      "        An array-like object of booleans, integers, or index values that\n",
      "        indicate the subset of df to use in the model. Assumes df is a\n",
      "        `pandas.DataFrame`.\n",
      "    drop_cols : array_like\n",
      "        Columns to drop from the design matrix.  Cannot be used to\n",
      "        drop terms involving categoricals.\n",
      "    *args\n",
      "        Additional positional argument that are passed to the model.\n",
      "    **kwargs\n",
      "        These are passed to the model with one exception. The\n",
      "        ``eval_env`` keyword is passed to patsy. It can be either a\n",
      "        :class:`patsy:patsy.EvalEnvironment` object or an integer\n",
      "        indicating the depth of the namespace to use. For example, the\n",
      "        default ``eval_env=0`` uses the calling namespace. If you wish\n",
      "        to use a \"clean\" environment set ``eval_env=-1``.\n",
      "    \n",
      "    Returns\n",
      "    -------\n",
      "    model\n",
      "        The model instance.\n",
      "    \n",
      "    Notes\n",
      "    -----\n",
      "    data must define __getitem__ with the keys in the formula terms\n",
      "    args and kwargs are passed on to the model instantiation. E.g.,\n",
      "    a numpy structured or rec array, a dictionary, or a pandas DataFrame.\n",
      "\n"
     ]
    }
   ],
   "source": [
    "help(smf.glm)"
   ]
  },
  {
   "cell_type": "code",
   "execution_count": 13,
   "id": "f2df1d58",
   "metadata": {},
   "outputs": [],
   "source": [
    "# help(sm.families)  "
   ]
  },
  {
   "cell_type": "code",
   "execution_count": 14,
   "id": "5b882059",
   "metadata": {},
   "outputs": [],
   "source": [
    "sm.families.Poisson?"
   ]
  },
  {
   "cell_type": "markdown",
   "id": "d05f293f",
   "metadata": {},
   "source": [
    "# 6.模型评估"
   ]
  },
  {
   "cell_type": "code",
   "execution_count": 15,
   "id": "38cd9bbf",
   "metadata": {},
   "outputs": [
    {
     "name": "stdout",
     "output_type": "stream",
     "text": [
      "RMSE: 0.4895481057323038\n"
     ]
    }
   ],
   "source": [
    "from sklearn.metrics import  mean_squared_error\n",
    "import numpy as np\n",
    "print(\"RMSE:\", np.sqrt(mean_squared_error(df_erosion.predict_result, df_erosion.num_distress)))"
   ]
  },
  {
   "cell_type": "code",
   "execution_count": 16,
   "id": "aee990ac",
   "metadata": {},
   "outputs": [],
   "source": [
    "# 本文件为教材《数据分析理论与实践：基于经典算法及Python编程实现》（朝乐门主编，机械工业出版社，2022年）的配套代码。"
   ]
  }
 ],
 "metadata": {
  "kernelspec": {
   "display_name": "Python 3",
   "language": "python",
   "name": "python3"
  },
  "language_info": {
   "codemirror_mode": {
    "name": "ipython",
    "version": 3
   },
   "file_extension": ".py",
   "mimetype": "text/x-python",
   "name": "python",
   "nbconvert_exporter": "python",
   "pygments_lexer": "ipython3",
   "version": "3.8.8"
  }
 },
 "nbformat": 4,
 "nbformat_minor": 5
}
