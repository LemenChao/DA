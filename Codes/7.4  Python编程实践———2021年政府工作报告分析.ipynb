{
 "cells": [
  {
   "cell_type": "markdown",
   "metadata": {},
   "source": [
    "# 7.4  Python编程实践———2021年政府工作报告分析"
   ]
  },
  {
   "cell_type": "code",
   "execution_count": null,
   "metadata": {},
   "outputs": [],
   "source": [
    "# 本文件为教材《数据分析理论与实践：基于经典算法及Python编程实现》（朝乐门主编，机械工业出版社，2022年）的配套代码。"
   ]
  },
  {
   "cell_type": "code",
   "execution_count": null,
   "metadata": {},
   "outputs": [],
   "source": [
    "import jieba \n",
    "import jieba.posseg as pseg  #词性标注器\n",
    "\n",
    "import numpy as np   \n",
    "import pandas as pd \n",
    "\n",
    "import matplotlib as mpl\n",
    "import matplotlib.pyplot as plt\n",
    "\n",
    "%matplotlib inline\n",
    "from wordcloud import WordCloud"
   ]
  },
  {
   "cell_type": "markdown",
   "metadata": {},
   "source": [
    "## 1. 数据读入"
   ]
  },
  {
   "cell_type": "code",
   "execution_count": null,
   "metadata": {},
   "outputs": [],
   "source": [
    "text=open('data\\政府工作报告.txt', 'r',encoding='utf-8').read().replace('\\n','')\n",
    "\n"
   ]
  },
  {
   "cell_type": "code",
   "execution_count": null,
   "metadata": {},
   "outputs": [],
   "source": [
    "# 显示函数open()的返回值text的前500个字符\n",
    "text[:500]"
   ]
  },
  {
   "cell_type": "markdown",
   "metadata": {},
   "source": [
    "## 2.分词处理"
   ]
  },
  {
   "cell_type": "markdown",
   "metadata": {},
   "source": [
    "<!-- 名词 (1个一类，7个二类，5个三类)\n",
    "　　名词分为以下子类：\n",
    "　　　　n 名词\n",
    "　　　　nr 人名\n",
    "　　　　nr1 汉语姓氏\n",
    "　　　　nr2 汉语名字\n",
    "　　　　nrj 日语人名\n",
    "　　　　nrf 音译人名\n",
    "　　　　ns 地名\n",
    "　　　　nsf 音译地名\n",
    "　　　　nt 机构团体名\n",
    "　　　　nz 其它专名\n",
    "　　　　nl 名词性惯用语\n",
    "　　　　ng 名词性语素\n",
    "时间词(1个一类，1个二类)\n",
    "　　　　t 时间词\n",
    "　　　　tg 时间词性语素\n",
    "处所词(1个一类)\n",
    "　　　　s 处所词\n",
    "方位词(1个一类)\n",
    "　　　　f 方位词\n",
    "动词(1个一类，9个二类)\n",
    "　　　　v 动词\n",
    "　　　　vd 副动词\n",
    "　　　　vn 名动词\n",
    "　　　　vshi 动词“是”\n",
    "　　　　vyou 动词“有”\n",
    "　　　　vf 趋向动词\n",
    "　　　　vx 形式动词\n",
    "　　　　vi 不及物动词（内动词）\n",
    "　　　　vl 动词性惯用语\n",
    "　　　　vg 动词性语素\n",
    "形容词(1个一类，4个二类)\n",
    "　　　　a 形容词\n",
    "　　　　ad 副形词\n",
    "　　　　an 名形词\n",
    "　　　　ag 形容词性语素\n",
    "　　　　al 形容词性惯用语\n",
    "区别词(1个一类，2个二类)\n",
    "　　　　b 区别词\n",
    "　　　　bl 区别词性惯用语\n",
    "状态词(1个一类)\n",
    "　　　　z 状态词\n",
    "代词(1个一类，4个二类，6个三类)\n",
    "　　　　r 代词\n",
    "　　　　rr 人称代词\n",
    "　　　　rz 指示代词\n",
    "　　　　rzt 时间指示代词\n",
    "　　　　rzs 处所指示代词\n",
    "　　　　rzv 谓词性指示代词\n",
    "　　　　ry 疑问代词\n",
    "　　　　ryt 时间疑问代词\n",
    "　　　　rys 处所疑问代词\n",
    "　　　　ryv 谓词性疑问代词\n",
    "　　　　rg 代词性语素\n",
    "数词(1个一类，1个二类)\n",
    "　　　　m 数词\n",
    "　　　　mq 数量词\n",
    "量词(1个一类，2个二类)\n",
    "　　　　q 量词\n",
    "　　　　qv 动量词\n",
    "　　　　qt 时量词\n",
    "副词(1个一类)\n",
    "　　　　d 副词\n",
    "介词(1个一类，2个二类)\n",
    "　　　　p 介词\n",
    "　　　　pba 介词“把”\n",
    "　　　　pbei 介词“被”\n",
    "连词(1个一类，1个二类)\n",
    "　　　　c 连词\n",
    "　　　　cc 并列连词\n",
    "助词(1个一类，15个二类)\n",
    "　　　　u 助词\n",
    "　　　　uzhe 着\n",
    "　　　　ule 了 喽\n",
    "　　　　uguo 过\n",
    "　　　　ude1 的 底\n",
    "　　　　ude2 地\n",
    "　　　　ude3 得\n",
    "　　　　usuo 所\n",
    "　　　　udeng 等 等等 云云\n",
    "　　　　uyy 一样 一般 似的 般\n",
    "　　　　udh 的话\n",
    "　　　　uls 来讲 来说 而言 说来\n",
    "　　　　uzhi 之\n",
    "　　　　ulian 连 （“连小学生都会”）\n",
    "叹词(1个一类)\n",
    "　　　　e 叹词\n",
    "语气词(1个一类)\n",
    "　　　　y 语气词(delete yg)\n",
    "拟声词(1个一类)\n",
    "　　　　o 拟声词\n",
    "前缀(1个一类)\n",
    "　　　　h 前缀\n",
    "后缀(1个一类)\n",
    "　　　　k 后缀\n",
    "字符串(1个一类，2个二类)\n",
    "　　　　x 字符串\n",
    "　　　　xx 非语素字\n",
    "　　　　xu 网址URL\n",
    "标点符号(1个一类，16个二类)\n",
    "　　　　w 标点符号\n",
    "　　　　wkz 左括号，全角：（ 〔 ［ ｛ 《 【 〖 〈 半角：( [ { <\n",
    "　　　　wky 右括号，全角：） 〕 ］ ｝ 》 】 〗 〉 半角： ) ] { >\n",
    "　　　　wyz 左引号，全角：“ ‘ 『\n",
    "　　　　wyy 右引号，全角：” ’ 』\n",
    "　　　　wj 句号，全角：。\n",
    "　　　　ww 问号，全角：？ 半角：?\n",
    "　　　　wt 叹号，全角：！ 半角：!\n",
    "　　　　wd 逗号，全角：， 半角：,\n",
    "　　　　wf 分号，全角：； 半角： ;\n",
    "　　　　wn 顿号，全角：、\n",
    "　　　　wm 冒号，全角：： 半角： :\n",
    "　　　　ws 省略号，全角：…… …\n",
    "　　　　wp 破折号，全角：—— －－ ——－ 半角：--- ----\n",
    "　　　　wb 百分号千分号，全角：％ ‰ 半角：%\n",
    "　　　　wh 单位符号，全角：￥ ＄ ￡ ° ℃ 半角：$\n",
    "\n",
    "作者：象网\n",
    "链接：https://www.jianshu.com/p/dbaa841fe580\n",
    "来源：简书\n",
    "著作权归作者所有。商业转载请联系作者获得授权，非商业转载请注明出处。 -->"
   ]
  },
  {
   "cell_type": "code",
   "execution_count": null,
   "metadata": {
    "scrolled": true
   },
   "outputs": [],
   "source": [
    "words = pseg.cut(text[:20]) #采用精确模式分词\n",
    "\n",
    "for word, flag in words:\n",
    "    print(F'{word}  {flag}')"
   ]
  },
  {
   "cell_type": "markdown",
   "metadata": {},
   "source": [
    "## 3.自定义词汇"
   ]
  },
  {
   "cell_type": "code",
   "execution_count": null,
   "metadata": {},
   "outputs": [],
   "source": [
    "jieba.add_word('不平凡', tag='a')\n",
    "jieba.add_word('以保促稳', tag='v')\n",
    "jieba.add_word('稳中求进', tag='v')\n",
    "jieba.add_word('助企纾困', tag='v')\n",
    "jieba.add_word('量大面广', tag='a')\n",
    "jieba.add_word('中小微', tag='a')\n",
    "jieba.add_word('小微', tag='a')\n",
    "jieba.add_word('落实', tag='v')\n",
    "jieba.add_word('普惠', tag='a')\n",
    "jieba.add_word('稳岗', tag='v')\n",
    "jieba.add_word('线上', tag='a')\n",
    "jieba.add_word('放管服', tag='v')\n",
    "jieba.add_word('一带一路', tag='n')\n",
    "jieba.add_word('天问一号', tag='n')\n",
    "jieba.add_word('嫦娥五号', tag='n')\n",
    "jieba.add_word('因城施策', tag='v')\n",
    "jieba.add_word('线上', tag='a')\n",
    "jieba.add_word('不忘初心', tag='v')\n",
    "jieba.add_word('牢记使命', tag='v')\n",
    "jieba.add_word('探月', tag='n')\n",
    "jieba.add_word('可持续', tag='a')\n",
    "jieba.add_word('中国梦', tag='n')"
   ]
  },
  {
   "cell_type": "code",
   "execution_count": null,
   "metadata": {
    "scrolled": true
   },
   "outputs": [],
   "source": [
    "words = pseg.cut(text[-20:])\n",
    "    \n",
    "for word, flag in words:\n",
    "    print(F'{word}  {flag}')"
   ]
  },
  {
   "cell_type": "markdown",
   "metadata": {},
   "source": [
    "## 4.词性标注"
   ]
  },
  {
   "cell_type": "code",
   "execution_count": null,
   "metadata": {},
   "outputs": [],
   "source": [
    "words = [] #定义空列表\n",
    "     \n",
    "year = 2021\n",
    "year_words = [] #定义空列表\n",
    "\n",
    "year_words.extend(pseg.cut(text))\n",
    "\n",
    "for j in range(len(year_words)):\n",
    "    ls_year_words = list(year_words[j])\n",
    "    ls_year_words.append(year)\n",
    "    words.append(ls_year_words)\n",
    "    \n",
    "words[0:10]"
   ]
  },
  {
   "cell_type": "code",
   "execution_count": null,
   "metadata": {},
   "outputs": [],
   "source": [
    "#将列表words 转换为数据框对象df_words，并设置列名依次为“词汇”“词性”和“年份”。\n",
    "df_words = pd.DataFrame(words,columns=[\"词汇\",\"词性\",\"年份\"])\n",
    "df_words"
   ]
  },
  {
   "cell_type": "code",
   "execution_count": null,
   "metadata": {},
   "outputs": [],
   "source": [
    "#查看行数 \n",
    "df_words.index.size"
   ]
  },
  {
   "cell_type": "code",
   "execution_count": null,
   "metadata": {
    "scrolled": true
   },
   "outputs": [],
   "source": [
    "# 增加词性的中文名称\n",
    "jiebapos = pd.read_excel(\"data\\jiebaPOS.xlsx\",header=0)\n",
    "\n",
    "df_words_renamed = df_words.join(jiebapos.set_index('词性英文名称'), on='词性')\n",
    "\n",
    "df_words_renamed"
   ]
  },
  {
   "cell_type": "code",
   "execution_count": null,
   "metadata": {},
   "outputs": [],
   "source": [
    "#查看“词性中文名称”一列中是否存在缺失值。\n",
    "df_words_renamed[df_words_renamed.词性中文名称.isnull()]"
   ]
  },
  {
   "cell_type": "markdown",
   "metadata": {},
   "source": [
    "## 5.停用词处理"
   ]
  },
  {
   "cell_type": "code",
   "execution_count": null,
   "metadata": {},
   "outputs": [],
   "source": [
    "#读入停用词表stopwords.txt\n",
    "stopwords = open(r'data\\stopwords.txt').read()\n",
    "lst_StopWords = stopwords.split(\"\\n\")  \n",
    "lst_StopWords[:10]"
   ]
  },
  {
   "cell_type": "code",
   "execution_count": null,
   "metadata": {
    "scrolled": true
   },
   "outputs": [],
   "source": [
    "#过滤停用词\n",
    "df_words = df_words_renamed[df_words_renamed.apply(lambda x: x.loc[\"词汇\"] not in lst_StopWords,axis=1)]\n",
    "\n",
    "df_words[:10]\n"
   ]
  },
  {
   "cell_type": "code",
   "execution_count": null,
   "metadata": {},
   "outputs": [],
   "source": [
    "# 查看停用词处理后的词数\n",
    "df_words.shape[0]"
   ]
  },
  {
   "cell_type": "markdown",
   "metadata": {},
   "source": [
    "## 6.词性分布分析"
   ]
  },
  {
   "cell_type": "code",
   "execution_count": null,
   "metadata": {},
   "outputs": [],
   "source": [
    "df_WordSpeechDistribution = pd.DataFrame(df_words['词性中文名称'].value_counts(ascending=False))\n",
    "\n",
    "df_WordSpeechDistribution.head(10)"
   ]
  },
  {
   "cell_type": "code",
   "execution_count": null,
   "metadata": {},
   "outputs": [],
   "source": [
    "#修改列名，将原“词性”列的名称改为“频数”\n",
    "df_WordSpeechDistribution.rename(columns={'词性中文名称':'频数'}\n",
    "                                 ,inplace=True)\n",
    "\n",
    "df_WordSpeechDistribution.head(10)"
   ]
  },
  {
   "cell_type": "code",
   "execution_count": null,
   "metadata": {},
   "outputs": [],
   "source": [
    "df_WordSpeechDistribution['频数'].sum()\n",
    "#查看行数"
   ]
  },
  {
   "cell_type": "code",
   "execution_count": null,
   "metadata": {},
   "outputs": [],
   "source": [
    "# 增设一个新列——“百分比”。\n",
    "df_WordSpeechDistribution['百分比'] = df_WordSpeechDistribution['频数'] / df_WordSpeechDistribution['频数'].sum()\n",
    "df_WordSpeechDistribution.head(10)"
   ]
  },
  {
   "cell_type": "code",
   "execution_count": null,
   "metadata": {},
   "outputs": [],
   "source": [
    "#用Pandas 的plot()方法绘制前10 位词性类别分布图。\n",
    "plt.rcParams[\"font.family\"] = 'simHei'\n",
    "plt.subplots(figsize=(7,5))\n",
    "plt.rcParams[\"font.family\"] ='STFangsong'\n",
    "df_WordSpeechDistribution.iloc[:10]['频数'].plot(kind='barh',color='darkred')\n",
    "plt.yticks(size=10)\n",
    "plt.xlabel('频数',size=10)\n",
    "plt.ylabel('词性',size=10)\n",
    "plt.title('【政府工作报告】词性分布分析')"
   ]
  },
  {
   "cell_type": "markdown",
   "metadata": {},
   "source": [
    "## 7.高频词分析"
   ]
  },
  {
   "cell_type": "code",
   "execution_count": null,
   "metadata": {},
   "outputs": [],
   "source": [
    "df_words.head(20)"
   ]
  },
  {
   "cell_type": "code",
   "execution_count": null,
   "metadata": {
    "scrolled": true
   },
   "outputs": [],
   "source": [
    "#创建列表columns_slected，并定义6个主要词性列表\n",
    "columns_slected=['名词','名词计数','动词','动词计数','数词','数词计数','代词','代词计数','副词','副词计数','形容词','形容词计数']\n",
    "\n",
    "df_Top6 = pd.DataFrame(columns=columns_slected)\n",
    "\n",
    "#统计6 大词性类别的具体内容，并保存到数据df_Top6 框中。\n",
    "for i in range(0,12,2):\n",
    "    df_Top6[columns_slected[i]] = df_words.loc[df_words['词性中文名称']==columns_slected[i]]['词汇'].value_counts().reset_index()['index']\n",
    "    df_Top6[columns_slected[i+1]] = df_words.loc[df_words['词性中文名称']==columns_slected[i]]['词汇'].value_counts().reset_index()['词汇']\n",
    "\n",
    "df_Top6.head(10)"
   ]
  },
  {
   "cell_type": "markdown",
   "metadata": {},
   "source": [
    "## 8. 关键词分析"
   ]
  },
  {
   "cell_type": "code",
   "execution_count": null,
   "metadata": {},
   "outputs": [],
   "source": [
    "#按照词的出现频数保存到数据框中\n",
    "df_AnnualTopWords = pd.DataFrame(columns=[2021])\n",
    "\n",
    "df_AnnualTopWords[2021] = df_words[\"词汇\"].value_counts().reset_index()[\"index\"]\n",
    "    \n",
    "df_AnnualTopWords[0:].head(10)"
   ]
  },
  {
   "cell_type": "code",
   "execution_count": null,
   "metadata": {
    "scrolled": false
   },
   "outputs": [],
   "source": [
    "#调用jieba关键词抽取模块jieba.analyse\n",
    "import jieba.analyse as analyse\n",
    "\n",
    "df_annual_keywords = pd.DataFrame(columns=[2021])\n",
    "\n",
    "# .extract_tags（）函数基于TF-IDF算法抽取关键词\n",
    "df_annual_keywords[2021]=analyse.extract_tags(' '.join(df_AnnualTopWords[2021].astype('str')))\n",
    "\n",
    "#查看年度关键词\n",
    "df_annual_keywords"
   ]
  },
  {
   "cell_type": "markdown",
   "metadata": {},
   "source": [
    "## 9. 生成词云"
   ]
  },
  {
   "cell_type": "code",
   "execution_count": null,
   "metadata": {},
   "outputs": [],
   "source": [
    "#显示字符串myText的前200个字符\n",
    "myText=' '.join(df_words.词汇)\n",
    "myText[:200]"
   ]
  },
  {
   "cell_type": "code",
   "execution_count": null,
   "metadata": {},
   "outputs": [],
   "source": [
    "font_wc= r'C:\\Windows\\Fonts\\msyhbd.ttc'\n",
    "word_cloud = WordCloud(font_path=font_wc,  \n",
    "                       background_color='white') \n",
    "word_cloud.generate(myText)\n",
    "plt.subplots(figsize=(8,5))\n",
    "plt.imshow(word_cloud)\n",
    "plt.axis('off')\n",
    "plt.title('政府工作报告的词云图')\n"
   ]
  },
  {
   "cell_type": "code",
   "execution_count": null,
   "metadata": {},
   "outputs": [],
   "source": []
  },
  {
   "cell_type": "code",
   "execution_count": null,
   "metadata": {},
   "outputs": [],
   "source": []
  }
 ],
 "metadata": {
  "kernelspec": {
   "display_name": "Python 3",
   "language": "python",
   "name": "python3"
  },
  "language_info": {
   "codemirror_mode": {
    "name": "ipython",
    "version": 3
   },
   "file_extension": ".py",
   "mimetype": "text/x-python",
   "name": "python",
   "nbconvert_exporter": "python",
   "pygments_lexer": "ipython3",
   "version": "3.8.8"
  }
 },
 "nbformat": 4,
 "nbformat_minor": 4
}
